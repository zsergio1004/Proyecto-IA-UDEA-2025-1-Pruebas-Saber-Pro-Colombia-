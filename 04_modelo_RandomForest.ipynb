{
  "nbformat": 4,
  "nbformat_minor": 0,
  "metadata": {
    "colab": {
      "provenance": [],
      "gpuType": "T4"
    },
    "kernelspec": {
      "name": "python3",
      "display_name": "Python 3"
    },
    "language_info": {
      "name": "python"
    },
    "accelerator": "GPU"
  },
  "cells": [
    {
      "cell_type": "markdown",
      "source": [
        "# Carga de librerias y datos"
      ],
      "metadata": {
        "id": "W46xanUcm7Xk"
      }
    },
    {
      "cell_type": "code",
      "execution_count": null,
      "metadata": {
        "colab": {
          "base_uri": "https://localhost:8080/"
        },
        "id": "jagq74ePb6WS",
        "outputId": "72d0654b-a680-409b-aeb3-feb0b53e79fa"
      },
      "outputs": [
        {
          "output_type": "stream",
          "name": "stdout",
          "text": [
            "udea-ai-4-eng-20251-pruebas-saber-pro-colombia.zip: Skipping, found more recently modified local copy (use --force to force download)\n"
          ]
        }
      ],
      "source": [
        "import os\n",
        "os.environ['KAGGLE_CONFIG_DIR'] = '.'\n",
        "!chmod 600 ./kaggle.json\n",
        "!kaggle competitions download -c udea-ai-4-eng-20251-pruebas-saber-pro-colombia"
      ]
    },
    {
      "cell_type": "code",
      "source": [
        "!unzip udea*.zip > /dev/null"
      ],
      "metadata": {
        "colab": {
          "base_uri": "https://localhost:8080/"
        },
        "id": "m5B0gcjEfraj",
        "outputId": "79f2684f-e1da-4f94-e0ec-1a7277e688c8"
      },
      "execution_count": null,
      "outputs": [
        {
          "output_type": "stream",
          "name": "stdout",
          "text": [
            "replace submission_example.csv? [y]es, [n]o, [A]ll, [N]one, [r]ename: A\n"
          ]
        }
      ]
    },
    {
      "cell_type": "code",
      "source": [
        "import numpy as np\n",
        "import matplotlib.pyplot as plt\n",
        "import pandas as pd\n",
        "from sklearn.model_selection import train_test_split\n",
        "from sklearn.metrics import accuracy_score, classification_report\n",
        "from sklearn.preprocessing import OneHotEncoder, StandardScaler, LabelEncoder\n",
        "from sklearn.compose import ColumnTransformer\n",
        "from sklearn.pipeline import Pipeline\n",
        "from sklearn.neural_network import MLPClassifier\n",
        "from sklearn.ensemble import RandomForestClassifier\n",
        "%matplotlib inline\n",
        "dtr= pd.read_csv(\"train.csv\")"
      ],
      "metadata": {
        "id": "OUF1R832fuRN"
      },
      "execution_count": null,
      "outputs": []
    },
    {
      "cell_type": "markdown",
      "source": [
        "# PREPROCESAMIENTO"
      ],
      "metadata": {
        "id": "X-VgwrDTtOz8"
      }
    },
    {
      "cell_type": "markdown",
      "source": [
        "## DATOS BOOLEANOS"
      ],
      "metadata": {
        "id": "pduA0hpc2URF"
      }
    },
    {
      "cell_type": "code",
      "source": [
        "def mask(x):\n",
        "  if x==\"Si\":\n",
        "    return bool(True)\n",
        "  elif x==\"No\":\n",
        "    return bool(False)\n",
        "  else:\n",
        "    return\n",
        "#Se define una mascara para que los datos queden en el tipo adecuado"
      ],
      "metadata": {
        "id": "mYNM_a3ggzcv"
      },
      "execution_count": null,
      "outputs": []
    },
    {
      "cell_type": "code",
      "source": [
        "for i in ['FAMI_TIENEINTERNET','FAMI_TIENELAVADORA','FAMI_TIENEAUTOMOVIL','ESTU_PAGOMATRICULAPROPIO','FAMI_TIENECOMPUTADOR','FAMI_TIENEINTERNET.1']:\n",
        "  dtr[i]=dtr[i].apply(mask)"
      ],
      "metadata": {
        "id": "6kZB3LAehA3r"
      },
      "execution_count": null,
      "outputs": []
    },
    {
      "cell_type": "code",
      "source": [
        "del dtr['FAMI_TIENEINTERNET.1'] #Observamos que es una variable repetida por lo cual borramos una de las columnas"
      ],
      "metadata": {
        "id": "PyhdQMg_yScU"
      },
      "execution_count": null,
      "outputs": []
    },
    {
      "cell_type": "code",
      "source": [
        "def mask1(x):\n",
        "  if x==\"S\":\n",
        "    return bool(True)\n",
        "  elif x==\"N\":\n",
        "    return bool(False)\n",
        "  else:\n",
        "    return\n",
        "#Mascara para variable particular"
      ],
      "metadata": {
        "id": "GLY0j-ZdhDSP"
      },
      "execution_count": null,
      "outputs": []
    },
    {
      "cell_type": "code",
      "source": [
        "dtr['ESTU_PRIVADO_LIBERTAD']=dtr['ESTU_PRIVADO_LIBERTAD'].apply(mask1)"
      ],
      "metadata": {
        "id": "9NXk4n6mhMrM"
      },
      "execution_count": null,
      "outputs": []
    },
    {
      "cell_type": "code",
      "source": [
        "bool_var= ['FAMI_TIENEINTERNET','FAMI_TIENELAVADORA','FAMI_TIENEAUTOMOVIL','ESTU_PAGOMATRICULAPROPIO','FAMI_TIENECOMPUTADOR','ESTU_PRIVADO_LIBERTAD']"
      ],
      "metadata": {
        "id": "-vkqFgPphRRr"
      },
      "execution_count": null,
      "outputs": []
    },
    {
      "cell_type": "code",
      "source": [
        "for col in bool_var:\n",
        "  dtr[col]=dtr[col].fillna(dtr[col].mode(dropna=True)[0])\n",
        "  #Al ser datos booleanos, y la cantidad de faltantes no muy alta, se decide llenar los datos faltantes con la moda de cada una de las columnas"
      ],
      "metadata": {
        "colab": {
          "base_uri": "https://localhost:8080/"
        },
        "id": "c2WRZ90Ys9ZM",
        "outputId": "c90c36d2-af61-4e7e-bb28-f92f0d708baa"
      },
      "execution_count": null,
      "outputs": [
        {
          "output_type": "stream",
          "name": "stderr",
          "text": [
            "/tmp/ipython-input-10-3536273753.py:2: FutureWarning: Downcasting object dtype arrays on .fillna, .ffill, .bfill is deprecated and will change in a future version. Call result.infer_objects(copy=False) instead. To opt-in to the future behavior, set `pd.set_option('future.no_silent_downcasting', True)`\n",
            "  dtr[col]=dtr[col].fillna(dtr[col].mode(dropna=True)[0])\n",
            "/tmp/ipython-input-10-3536273753.py:2: FutureWarning: Downcasting object dtype arrays on .fillna, .ffill, .bfill is deprecated and will change in a future version. Call result.infer_objects(copy=False) instead. To opt-in to the future behavior, set `pd.set_option('future.no_silent_downcasting', True)`\n",
            "  dtr[col]=dtr[col].fillna(dtr[col].mode(dropna=True)[0])\n"
          ]
        }
      ]
    },
    {
      "cell_type": "markdown",
      "source": [
        "## Datos categoricos mapeables"
      ],
      "metadata": {
        "id": "qSa92iPT6qjV"
      }
    },
    {
      "cell_type": "markdown",
      "source": [
        "Hay una buena cantidad de columnas que tienen una estructura ordenada por lo cual para simplicidad de los datos podriamos mapearlos en integrers ordenadas, en ciertos casos se toma la decisión de llenar los valores faltantes con 0, la media, o una categoría nueva segun tenga sentido."
      ],
      "metadata": {
        "id": "dWGrrRgO9NTX"
      }
    },
    {
      "cell_type": "code",
      "source": [
        "mapa_matricula = {\n",
        "    'Menos de 500 mil': 1,\n",
        "    'Entre 500 mil y menos de 1 millón': 2,\n",
        "    'Entre 1 millón y menos de 2.5 millones': 3,\n",
        "    'Entre 2.5 millones y menos de 4 millones': 4,\n",
        "    'Entre 4 millones y menos de 5.5 millones': 5,\n",
        "    'Entre 5.5 millones y menos de 7 millones': 6,\n",
        "    'Más de 7 millones': 7,\n",
        "    'No pagó matrícula': 0,\n",
        "}\n",
        "dtr['ESTU_VALORMATRICULAUNIVERSIDAD'] = dtr['ESTU_VALORMATRICULAUNIVERSIDAD'].map(mapa_matricula)"
      ],
      "metadata": {
        "id": "Khq8coh_9g8A"
      },
      "execution_count": null,
      "outputs": []
    },
    {
      "cell_type": "code",
      "source": [
        "dtr['ESTU_VALORMATRICULAUNIVERSIDAD']=dtr['ESTU_VALORMATRICULAUNIVERSIDAD'].fillna(round(dtr['ESTU_VALORMATRICULAUNIVERSIDAD'].mean()))"
      ],
      "metadata": {
        "id": "oSFFSxxl_nyo"
      },
      "execution_count": null,
      "outputs": []
    },
    {
      "cell_type": "code",
      "source": [
        "mapa_trabajo = {\n",
        "    '0': 0,\n",
        "    'Menos de 10 horas': 1,\n",
        "    'Entre 11 y 20 horas': 2,\n",
        "    'Entre 21 y 30 horas': 3,\n",
        "    'Más de 30 horas': 4\n",
        "}\n",
        "\n",
        "dtr['ESTU_HORASSEMANATRABAJA'] = dtr['ESTU_HORASSEMANATRABAJA'].map(mapa_trabajo)\n",
        "dtr['ESTU_HORASSEMANATRABAJA'] = dtr['ESTU_HORASSEMANATRABAJA'].fillna(round(dtr['ESTU_HORASSEMANATRABAJA'].mean()))"
      ],
      "metadata": {
        "id": "4eeUa-qnE-cX"
      },
      "execution_count": null,
      "outputs": []
    },
    {
      "cell_type": "code",
      "source": [
        "dtr['FAMI_ESTRATOVIVIENDA']=dtr['FAMI_ESTRATOVIVIENDA'].fillna('ns/nr')"
      ],
      "metadata": {
        "id": "YwimcEYmICvZ"
      },
      "execution_count": null,
      "outputs": []
    },
    {
      "cell_type": "code",
      "source": [
        "for col in ['FAMI_EDUCACIONMADRE','FAMI_EDUCACIONPADRE']:\n",
        "  dtr[col]=dtr[col].fillna('desconocido')"
      ],
      "metadata": {
        "id": "cFHOykgAQAd4"
      },
      "execution_count": null,
      "outputs": []
    },
    {
      "cell_type": "code",
      "source": [
        "dtr.isnull().any()"
      ],
      "metadata": {
        "colab": {
          "base_uri": "https://localhost:8080/",
          "height": 711
        },
        "id": "9FXwdxBjRSy4",
        "outputId": "dc498269-7534-4d8a-93db-07bb5edda134"
      },
      "execution_count": null,
      "outputs": [
        {
          "output_type": "execute_result",
          "data": {
            "text/plain": [
              "ID                                False\n",
              "PERIODO                           False\n",
              "ESTU_PRGM_ACADEMICO               False\n",
              "ESTU_PRGM_DEPARTAMENTO            False\n",
              "ESTU_VALORMATRICULAUNIVERSIDAD    False\n",
              "ESTU_HORASSEMANATRABAJA           False\n",
              "FAMI_ESTRATOVIVIENDA              False\n",
              "FAMI_TIENEINTERNET                False\n",
              "FAMI_EDUCACIONPADRE               False\n",
              "FAMI_TIENELAVADORA                False\n",
              "FAMI_TIENEAUTOMOVIL               False\n",
              "ESTU_PRIVADO_LIBERTAD             False\n",
              "ESTU_PAGOMATRICULAPROPIO          False\n",
              "FAMI_TIENECOMPUTADOR              False\n",
              "FAMI_EDUCACIONMADRE               False\n",
              "RENDIMIENTO_GLOBAL                False\n",
              "coef_1                            False\n",
              "coef_2                            False\n",
              "coef_3                            False\n",
              "coef_4                            False\n",
              "dtype: bool"
            ],
            "text/html": [
              "<div>\n",
              "<style scoped>\n",
              "    .dataframe tbody tr th:only-of-type {\n",
              "        vertical-align: middle;\n",
              "    }\n",
              "\n",
              "    .dataframe tbody tr th {\n",
              "        vertical-align: top;\n",
              "    }\n",
              "\n",
              "    .dataframe thead th {\n",
              "        text-align: right;\n",
              "    }\n",
              "</style>\n",
              "<table border=\"1\" class=\"dataframe\">\n",
              "  <thead>\n",
              "    <tr style=\"text-align: right;\">\n",
              "      <th></th>\n",
              "      <th>0</th>\n",
              "    </tr>\n",
              "  </thead>\n",
              "  <tbody>\n",
              "    <tr>\n",
              "      <th>ID</th>\n",
              "      <td>False</td>\n",
              "    </tr>\n",
              "    <tr>\n",
              "      <th>PERIODO</th>\n",
              "      <td>False</td>\n",
              "    </tr>\n",
              "    <tr>\n",
              "      <th>ESTU_PRGM_ACADEMICO</th>\n",
              "      <td>False</td>\n",
              "    </tr>\n",
              "    <tr>\n",
              "      <th>ESTU_PRGM_DEPARTAMENTO</th>\n",
              "      <td>False</td>\n",
              "    </tr>\n",
              "    <tr>\n",
              "      <th>ESTU_VALORMATRICULAUNIVERSIDAD</th>\n",
              "      <td>False</td>\n",
              "    </tr>\n",
              "    <tr>\n",
              "      <th>ESTU_HORASSEMANATRABAJA</th>\n",
              "      <td>False</td>\n",
              "    </tr>\n",
              "    <tr>\n",
              "      <th>FAMI_ESTRATOVIVIENDA</th>\n",
              "      <td>False</td>\n",
              "    </tr>\n",
              "    <tr>\n",
              "      <th>FAMI_TIENEINTERNET</th>\n",
              "      <td>False</td>\n",
              "    </tr>\n",
              "    <tr>\n",
              "      <th>FAMI_EDUCACIONPADRE</th>\n",
              "      <td>False</td>\n",
              "    </tr>\n",
              "    <tr>\n",
              "      <th>FAMI_TIENELAVADORA</th>\n",
              "      <td>False</td>\n",
              "    </tr>\n",
              "    <tr>\n",
              "      <th>FAMI_TIENEAUTOMOVIL</th>\n",
              "      <td>False</td>\n",
              "    </tr>\n",
              "    <tr>\n",
              "      <th>ESTU_PRIVADO_LIBERTAD</th>\n",
              "      <td>False</td>\n",
              "    </tr>\n",
              "    <tr>\n",
              "      <th>ESTU_PAGOMATRICULAPROPIO</th>\n",
              "      <td>False</td>\n",
              "    </tr>\n",
              "    <tr>\n",
              "      <th>FAMI_TIENECOMPUTADOR</th>\n",
              "      <td>False</td>\n",
              "    </tr>\n",
              "    <tr>\n",
              "      <th>FAMI_EDUCACIONMADRE</th>\n",
              "      <td>False</td>\n",
              "    </tr>\n",
              "    <tr>\n",
              "      <th>RENDIMIENTO_GLOBAL</th>\n",
              "      <td>False</td>\n",
              "    </tr>\n",
              "    <tr>\n",
              "      <th>coef_1</th>\n",
              "      <td>False</td>\n",
              "    </tr>\n",
              "    <tr>\n",
              "      <th>coef_2</th>\n",
              "      <td>False</td>\n",
              "    </tr>\n",
              "    <tr>\n",
              "      <th>coef_3</th>\n",
              "      <td>False</td>\n",
              "    </tr>\n",
              "    <tr>\n",
              "      <th>coef_4</th>\n",
              "      <td>False</td>\n",
              "    </tr>\n",
              "  </tbody>\n",
              "</table>\n",
              "</div><br><label><b>dtype:</b> bool</label>"
            ]
          },
          "metadata": {},
          "execution_count": 16
        }
      ]
    },
    {
      "cell_type": "code",
      "source": [
        "Var_categoricas=['FAMI_EDUCACIONMADRE','FAMI_EDUCACIONPADRE','FAMI_ESTRATOVIVIENDA','ESTU_PRGM_ACADEMICO','ESTU_PRGM_DEPARTAMENTO']\n",
        "for col in Var_categoricas:\n",
        "  dtr[col]=dtr[col].astype(str)"
      ],
      "metadata": {
        "id": "VPcjc-xgRfKy"
      },
      "execution_count": null,
      "outputs": []
    },
    {
      "cell_type": "code",
      "source": [
        "del dtr['coef_1'], dtr['coef_2'], dtr['coef_3'], dtr['coef_4']"
      ],
      "metadata": {
        "id": "M0dKWTNO4X5u"
      },
      "execution_count": null,
      "outputs": []
    },
    {
      "cell_type": "markdown",
      "source": [
        "#Entrenamiento,"
      ],
      "metadata": {
        "id": "iPildga52YYs"
      }
    },
    {
      "cell_type": "code",
      "source": [
        "dtr.shape"
      ],
      "metadata": {
        "colab": {
          "base_uri": "https://localhost:8080/"
        },
        "id": "_OFu7aDQ9tFg",
        "outputId": "8408189d-6840-4a16-a130-d1694645d0d1"
      },
      "execution_count": null,
      "outputs": [
        {
          "output_type": "execute_result",
          "data": {
            "text/plain": [
              "(692500, 16)"
            ]
          },
          "metadata": {},
          "execution_count": 19
        }
      ]
    },
    {
      "cell_type": "code",
      "source": [
        "dtr_copy=dtr.copy()\n",
        "le=LabelEncoder()\n",
        "y=le.fit_transform(dtr_copy['RENDIMIENTO_GLOBAL'])\n",
        "X=dtr_copy.drop(columns=[\"RENDIMIENTO_GLOBAL\", \"ID\", \"PERIODO\"] )\n",
        "x_train, x_test, y_train, y_test = train_test_split(X, y, test_size=0.2, random_state=42)\n",
        "x_train, x_val, y_train, y_val = train_test_split(x_train, y_train, test_size=0.25, random_state=42)"
      ],
      "metadata": {
        "id": "EUuFZV42UdHy"
      },
      "execution_count": null,
      "outputs": []
    },
    {
      "cell_type": "code",
      "source": [
        "var_map = ['ESTU_VALORMATRICULAUNIVERSIDAD', 'ESTU_HORASSEMANATRABAJA']\n",
        "#Se establece lista de las variables mapeadas\n",
        "preprocessor = ColumnTransformer(\n",
        "    transformers=[\n",
        "        ('cat', OneHotEncoder(handle_unknown='ignore'), Var_categoricas),\n",
        "        ('scaler', StandardScaler(), var_map)\n",
        "    ],\n",
        "    remainder='passthrough'\n",
        ")\n",
        "#Se escalan las variables numericas y las varibales categoricas se filtran en onehot encoder\n",
        "pipeline = Pipeline(steps=[('preprocessor', preprocessor)])\n",
        "\n",
        "# Despues del preprocesado se fijan los datos en el split\n",
        "\n",
        "\n"
      ],
      "metadata": {
        "id": "2vVjqjAF8CO9"
      },
      "execution_count": null,
      "outputs": []
    },
    {
      "cell_type": "code",
      "source": [
        "#Entrenamos el modelo\n",
        "pipeline = Pipeline([\n",
        "    (\"preprocessor\", preprocessor),\n",
        "    (\"classifier\",RandomForestClassifier(n_estimators=2000, max_depth=8, max_features='sqrt', random_state=68, n_jobs=-1, verbose=1))\n",
        "])\n",
        "pipeline.fit(x_train, y_train)\n",
        "\n",
        "y_val_pred = pipeline.predict(x_val)\n",
        "val_accuracy = accuracy_score(y_val, y_val_pred)\n",
        "print(f\"Accuracy validación: {val_accuracy:.4f}\")\n",
        "print(classification_report(y_val, y_val_pred, target_names=le.classes_))\n",
        "\n",
        "y_test_pred = pipeline.predict(x_test)\n",
        "test_accuracy = accuracy_score(y_test, y_test_pred)\n",
        "print(f\"Accuracy test: {test_accuracy:.4f}\")\n",
        "print(classification_report(y_test, y_test_pred, target_names=le.classes_))\n"
      ],
      "metadata": {
        "colab": {
          "base_uri": "https://localhost:8080/"
        },
        "id": "eMmil298Lwth",
        "outputId": "83e61dea-4621-4e41-ff8a-0740464d51ce"
      },
      "execution_count": null,
      "outputs": [
        {
          "output_type": "stream",
          "name": "stderr",
          "text": [
            "[Parallel(n_jobs=-1)]: Using backend ThreadingBackend with 2 concurrent workers.\n",
            "[Parallel(n_jobs=-1)]: Done  46 tasks      | elapsed:   14.5s\n",
            "[Parallel(n_jobs=-1)]: Done 196 tasks      | elapsed:   42.7s\n",
            "[Parallel(n_jobs=-1)]: Done 446 tasks      | elapsed:  1.4min\n",
            "[Parallel(n_jobs=-1)]: Done 796 tasks      | elapsed:  2.5min\n",
            "[Parallel(n_jobs=-1)]: Done 1246 tasks      | elapsed:  3.9min\n",
            "[Parallel(n_jobs=-1)]: Done 1796 tasks      | elapsed:  5.8min\n",
            "[Parallel(n_jobs=-1)]: Done 2000 out of 2000 | elapsed:  6.4min finished\n",
            "[Parallel(n_jobs=2)]: Using backend ThreadingBackend with 2 concurrent workers.\n",
            "[Parallel(n_jobs=2)]: Done  46 tasks      | elapsed:    0.3s\n",
            "[Parallel(n_jobs=2)]: Done 196 tasks      | elapsed:    1.2s\n",
            "[Parallel(n_jobs=2)]: Done 446 tasks      | elapsed:    2.8s\n",
            "[Parallel(n_jobs=2)]: Done 796 tasks      | elapsed:    5.0s\n",
            "[Parallel(n_jobs=2)]: Done 1246 tasks      | elapsed:    9.1s\n",
            "[Parallel(n_jobs=2)]: Done 1796 tasks      | elapsed:   12.7s\n",
            "[Parallel(n_jobs=2)]: Done 2000 out of 2000 | elapsed:   13.9s finished\n"
          ]
        },
        {
          "output_type": "stream",
          "name": "stdout",
          "text": [
            "Accuracy validación: 0.3837\n",
            "              precision    recall  f1-score   support\n",
            "\n",
            "        alto       0.45      0.64      0.52     35404\n",
            "        bajo       0.37      0.63      0.47     34360\n",
            "  medio-alto       0.30      0.12      0.17     34278\n",
            "  medio-bajo       0.30      0.14      0.19     34458\n",
            "\n",
            "    accuracy                           0.38    138500\n",
            "   macro avg       0.35      0.38      0.34    138500\n",
            "weighted avg       0.36      0.38      0.34    138500\n",
            "\n"
          ]
        },
        {
          "output_type": "stream",
          "name": "stderr",
          "text": [
            "[Parallel(n_jobs=2)]: Using backend ThreadingBackend with 2 concurrent workers.\n",
            "[Parallel(n_jobs=2)]: Done  46 tasks      | elapsed:    0.3s\n",
            "[Parallel(n_jobs=2)]: Done 196 tasks      | elapsed:    1.2s\n",
            "[Parallel(n_jobs=2)]: Done 446 tasks      | elapsed:    2.8s\n",
            "[Parallel(n_jobs=2)]: Done 796 tasks      | elapsed:    5.6s\n",
            "[Parallel(n_jobs=2)]: Done 1246 tasks      | elapsed:    9.1s\n",
            "[Parallel(n_jobs=2)]: Done 1796 tasks      | elapsed:   12.5s\n"
          ]
        },
        {
          "output_type": "stream",
          "name": "stdout",
          "text": [
            "Accuracy test: 0.3844\n",
            "              precision    recall  f1-score   support\n",
            "\n",
            "        alto       0.45      0.64      0.53     35165\n",
            "        bajo       0.38      0.63      0.47     34573\n",
            "  medio-alto       0.30      0.12      0.17     34259\n",
            "  medio-bajo       0.29      0.14      0.19     34503\n",
            "\n",
            "    accuracy                           0.38    138500\n",
            "   macro avg       0.35      0.38      0.34    138500\n",
            "weighted avg       0.35      0.38      0.34    138500\n",
            "\n"
          ]
        },
        {
          "output_type": "stream",
          "name": "stderr",
          "text": [
            "[Parallel(n_jobs=2)]: Done 2000 out of 2000 | elapsed:   13.8s finished\n"
          ]
        }
      ]
    },
    {
      "cell_type": "markdown",
      "source": [
        "Ahora para la subida a Kaggle debemos adaptar los datos de test a los mapas establecidos."
      ],
      "metadata": {
        "id": "BAi5KosQSO9c"
      }
    },
    {
      "cell_type": "code",
      "source": [
        "dtest= pd.read_csv(\"test.csv\")"
      ],
      "metadata": {
        "id": "WiMgxBNkOo24"
      },
      "execution_count": null,
      "outputs": []
    },
    {
      "cell_type": "code",
      "source": [
        "for i in ['FAMI_TIENEINTERNET','FAMI_TIENELAVADORA','FAMI_TIENEAUTOMOVIL','ESTU_PAGOMATRICULAPROPIO','FAMI_TIENECOMPUTADOR','FAMI_TIENEINTERNET.1']:\n",
        "  dtest[i]=dtest[i].apply(mask)\n",
        "del dtest['FAMI_TIENEINTERNET.1']\n",
        "dtest['ESTU_PRIVADO_LIBERTAD']=dtest['ESTU_PRIVADO_LIBERTAD'].apply(mask1)\n",
        "for col in bool_var:\n",
        "  dtest[col]=dtest[col].fillna(dtest[col].mode(dropna=True)[0])\n",
        "dtest['ESTU_VALORMATRICULAUNIVERSIDAD'] = dtest['ESTU_VALORMATRICULAUNIVERSIDAD'].map(mapa_matricula)\n",
        "dtest['ESTU_VALORMATRICULAUNIVERSIDAD']=dtest['ESTU_VALORMATRICULAUNIVERSIDAD'].fillna(round(dtest['ESTU_VALORMATRICULAUNIVERSIDAD'].mean()))\n",
        "dtest['ESTU_HORASSEMANATRABAJA'] = dtest['ESTU_HORASSEMANATRABAJA'].map(mapa_trabajo)\n",
        "dtest['ESTU_HORASSEMANATRABAJA'] = dtest['ESTU_HORASSEMANATRABAJA'].fillna(round(dtr['ESTU_HORASSEMANATRABAJA'].mean()))\n",
        "dtest['FAMI_ESTRATOVIVIENDA']=dtest['FAMI_ESTRATOVIVIENDA'].fillna('ns/nr')\n",
        "for col in ['FAMI_EDUCACIONMADRE','FAMI_EDUCACIONPADRE']:\n",
        "  dtest[col]=dtest[col].fillna('desconocido')\n",
        "Var_categoricas=['FAMI_EDUCACIONMADRE','FAMI_EDUCACIONPADRE','FAMI_ESTRATOVIVIENDA','ESTU_PRGM_ACADEMICO','ESTU_PRGM_DEPARTAMENTO']\n",
        "for col in Var_categoricas:\n",
        "  dtest[col]=dtest[col].astype(str)\n",
        "del dtest['coef_1'], dtest['coef_2'], dtest['coef_3'], dtest['coef_4']"
      ],
      "metadata": {
        "colab": {
          "base_uri": "https://localhost:8080/"
        },
        "id": "etJYfSH_SiNt",
        "outputId": "c29e9cb4-6f0f-48ab-a882-e1cfa850de24"
      },
      "execution_count": null,
      "outputs": [
        {
          "output_type": "stream",
          "name": "stderr",
          "text": [
            "/tmp/ipython-input-24-2315766531.py:6: FutureWarning: Downcasting object dtype arrays on .fillna, .ffill, .bfill is deprecated and will change in a future version. Call result.infer_objects(copy=False) instead. To opt-in to the future behavior, set `pd.set_option('future.no_silent_downcasting', True)`\n",
            "  dtest[col]=dtest[col].fillna(dtest[col].mode(dropna=True)[0])\n"
          ]
        }
      ]
    },
    {
      "cell_type": "code",
      "source": [
        "x_kaggle = dtest.drop(columns=[\"ID\", \"PERIODO\"], errors='ignore')\n",
        "predictions = pipeline.predict(x_kaggle)\n",
        "predictions_labels = le.inverse_transform(predictions)\n",
        "kaggle_dtest = dtest[[\"ID\"]].copy()\n",
        "kaggle_dtest[\"RENDIMIENTO_GLOBAL\"] = predictions_labels\n",
        "kaggle_dtest.to_csv(\"submission_dtest.csv\", index=False)\n",
        "print(kaggle_dtest.head())"
      ],
      "metadata": {
        "colab": {
          "base_uri": "https://localhost:8080/"
        },
        "id": "Z2igDVI_SwRy",
        "outputId": "6ed1175b-5b40-4544-8922-fc69bb0771c9"
      },
      "execution_count": null,
      "outputs": [
        {
          "output_type": "stream",
          "name": "stderr",
          "text": [
            "[Parallel(n_jobs=2)]: Using backend ThreadingBackend with 2 concurrent workers.\n",
            "[Parallel(n_jobs=2)]: Done  46 tasks      | elapsed:    1.0s\n",
            "[Parallel(n_jobs=2)]: Done 196 tasks      | elapsed:    4.9s\n",
            "[Parallel(n_jobs=2)]: Done 446 tasks      | elapsed:    9.2s\n",
            "[Parallel(n_jobs=2)]: Done 796 tasks      | elapsed:   15.5s\n",
            "[Parallel(n_jobs=2)]: Done 1246 tasks      | elapsed:   22.0s\n",
            "[Parallel(n_jobs=2)]: Done 1796 tasks      | elapsed:   31.2s\n",
            "[Parallel(n_jobs=2)]: Done 2000 out of 2000 | elapsed:   34.1s finished\n"
          ]
        },
        {
          "output_type": "stream",
          "name": "stdout",
          "text": [
            "       ID RENDIMIENTO_GLOBAL\n",
            "0  550236               bajo\n",
            "1   98545         medio-alto\n",
            "2  499179               alto\n",
            "3  782980               bajo\n",
            "4  785185         medio-bajo\n"
          ]
        }
      ]
    },
    {
      "cell_type": "code",
      "source": [],
      "metadata": {
        "id": "NGw3X7ygczdr"
      },
      "execution_count": null,
      "outputs": []
    }
  ]
}