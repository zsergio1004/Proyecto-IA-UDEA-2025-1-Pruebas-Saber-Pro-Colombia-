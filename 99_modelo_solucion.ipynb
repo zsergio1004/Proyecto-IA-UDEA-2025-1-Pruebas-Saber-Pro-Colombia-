{
  "nbformat": 4,
  "nbformat_minor": 0,
  "metadata": {
    "colab": {
      "provenance": []
    },
    "kernelspec": {
      "name": "python3",
      "display_name": "Python 3"
    },
    "language_info": {
      "name": "python"
    }
  },
  "cells": [
    {
      "cell_type": "markdown",
      "source": [
        "# Carga de librerias y datos"
      ],
      "metadata": {
        "id": "W46xanUcm7Xk"
      }
    },
    {
      "cell_type": "code",
      "execution_count": 1,
      "metadata": {
        "colab": {
          "base_uri": "https://localhost:8080/"
        },
        "id": "jagq74ePb6WS",
        "outputId": "3cd36ca8-4b14-4594-f3dd-e456a25eee27"
      },
      "outputs": [
        {
          "output_type": "stream",
          "name": "stdout",
          "text": [
            "udea-ai-4-eng-20251-pruebas-saber-pro-colombia.zip: Skipping, found more recently modified local copy (use --force to force download)\n",
            "Requirement already satisfied: lightgbm in /usr/local/lib/python3.11/dist-packages (4.5.0)\n",
            "Requirement already satisfied: numpy>=1.17.0 in /usr/local/lib/python3.11/dist-packages (from lightgbm) (2.0.2)\n",
            "Requirement already satisfied: scipy in /usr/local/lib/python3.11/dist-packages (from lightgbm) (1.15.3)\n"
          ]
        }
      ],
      "source": [
        "import os\n",
        "os.environ['KAGGLE_CONFIG_DIR'] = '.'\n",
        "!chmod 600 ./kaggle.json\n",
        "!kaggle competitions download -c udea-ai-4-eng-20251-pruebas-saber-pro-colombia\n",
        "!pip install lightgbm"
      ]
    },
    {
      "cell_type": "code",
      "source": [
        "!unzip udea*.zip > /dev/null"
      ],
      "metadata": {
        "colab": {
          "base_uri": "https://localhost:8080/"
        },
        "id": "m5B0gcjEfraj",
        "outputId": "4afbb694-20ee-4b6d-8252-ed5c639195e8"
      },
      "execution_count": 2,
      "outputs": [
        {
          "output_type": "stream",
          "name": "stdout",
          "text": [
            "replace submission_example.csv? [y]es, [n]o, [A]ll, [N]one, [r]ename: A\n"
          ]
        }
      ]
    },
    {
      "cell_type": "code",
      "source": [
        "import numpy as np\n",
        "import matplotlib.pyplot as plt\n",
        "import pandas as pd\n",
        "from sklearn.model_selection import train_test_split\n",
        "from sklearn.metrics import accuracy_score, classification_report\n",
        "from sklearn.preprocessing import OneHotEncoder, StandardScaler, LabelEncoder\n",
        "from sklearn.compose import ColumnTransformer\n",
        "from sklearn.pipeline import Pipeline\n",
        "from sklearn.ensemble import RandomForestClassifier\n",
        "import lightgbm as lgb\n",
        "%matplotlib inline\n",
        "dtr= pd.read_csv(\"train.csv\")"
      ],
      "metadata": {
        "id": "OUF1R832fuRN"
      },
      "execution_count": 3,
      "outputs": []
    },
    {
      "cell_type": "markdown",
      "source": [
        "# PREPROCESAMIENTO"
      ],
      "metadata": {
        "id": "X-VgwrDTtOz8"
      }
    },
    {
      "cell_type": "markdown",
      "source": [
        "## DATOS BOOLEANOS"
      ],
      "metadata": {
        "id": "pduA0hpc2URF"
      }
    },
    {
      "cell_type": "code",
      "source": [
        "def mask(x):\n",
        "  if x==\"Si\":\n",
        "    return bool(True)\n",
        "  elif x==\"No\":\n",
        "    return bool(False)\n",
        "  else:\n",
        "    return\n",
        "#Se define una mascara para que los datos queden en el tipo adecuado"
      ],
      "metadata": {
        "id": "mYNM_a3ggzcv"
      },
      "execution_count": 4,
      "outputs": []
    },
    {
      "cell_type": "code",
      "source": [
        "for i in ['FAMI_TIENEINTERNET','FAMI_TIENELAVADORA','FAMI_TIENEAUTOMOVIL','ESTU_PAGOMATRICULAPROPIO','FAMI_TIENECOMPUTADOR','FAMI_TIENEINTERNET.1']:\n",
        "  dtr[i]=dtr[i].apply(mask)"
      ],
      "metadata": {
        "id": "6kZB3LAehA3r"
      },
      "execution_count": 5,
      "outputs": []
    },
    {
      "cell_type": "code",
      "source": [
        "del dtr['FAMI_TIENEINTERNET.1'] #Observamos que es una variable repetida por lo cual borramos una de las columnas"
      ],
      "metadata": {
        "id": "PyhdQMg_yScU"
      },
      "execution_count": 6,
      "outputs": []
    },
    {
      "cell_type": "code",
      "source": [
        "def mask1(x):\n",
        "  if x==\"S\":\n",
        "    return bool(True)\n",
        "  elif x==\"N\":\n",
        "    return bool(False)\n",
        "  else:\n",
        "    return\n",
        "#Mascara para variable particular"
      ],
      "metadata": {
        "id": "GLY0j-ZdhDSP"
      },
      "execution_count": 7,
      "outputs": []
    },
    {
      "cell_type": "code",
      "source": [
        "dtr['ESTU_PRIVADO_LIBERTAD']=dtr['ESTU_PRIVADO_LIBERTAD'].apply(mask1)"
      ],
      "metadata": {
        "id": "9NXk4n6mhMrM"
      },
      "execution_count": 8,
      "outputs": []
    },
    {
      "cell_type": "code",
      "source": [
        "bool_var= ['FAMI_TIENEINTERNET','FAMI_TIENELAVADORA','FAMI_TIENEAUTOMOVIL','ESTU_PAGOMATRICULAPROPIO','FAMI_TIENECOMPUTADOR','ESTU_PRIVADO_LIBERTAD']"
      ],
      "metadata": {
        "id": "-vkqFgPphRRr"
      },
      "execution_count": 9,
      "outputs": []
    },
    {
      "cell_type": "code",
      "source": [
        "for col in bool_var:\n",
        "  dtr[col]=dtr[col].fillna(dtr[col].mode(dropna=True)[0])\n",
        "  #Al ser datos booleanos, y la cantidad de faltantes no muy alta, se decide llenar los datos faltantes con la moda de cada una de las columnas"
      ],
      "metadata": {
        "colab": {
          "base_uri": "https://localhost:8080/"
        },
        "id": "c2WRZ90Ys9ZM",
        "outputId": "3d20919c-66ea-4eff-d269-155d48a5ed5d"
      },
      "execution_count": 10,
      "outputs": [
        {
          "output_type": "stream",
          "name": "stderr",
          "text": [
            "/tmp/ipython-input-10-3536273753.py:2: FutureWarning: Downcasting object dtype arrays on .fillna, .ffill, .bfill is deprecated and will change in a future version. Call result.infer_objects(copy=False) instead. To opt-in to the future behavior, set `pd.set_option('future.no_silent_downcasting', True)`\n",
            "  dtr[col]=dtr[col].fillna(dtr[col].mode(dropna=True)[0])\n"
          ]
        }
      ]
    },
    {
      "cell_type": "markdown",
      "source": [
        "## Datos categoricos mapeables"
      ],
      "metadata": {
        "id": "qSa92iPT6qjV"
      }
    },
    {
      "cell_type": "markdown",
      "source": [
        "Hay una buena cantidad de columnas que tienen una estructura ordenada por lo cual para simplicidad de los datos podriamos mapearlos en integrers ordenadas, en ciertos casos se toma la decisión de llenar los valores faltantes con 0, la media, o una categoría nueva segun tenga sentido."
      ],
      "metadata": {
        "id": "dWGrrRgO9NTX"
      }
    },
    {
      "cell_type": "code",
      "source": [
        "mapa_matricula = {\n",
        "    'Menos de 500 mil': 1,\n",
        "    'Entre 500 mil y menos de 1 millón': 2,\n",
        "    'Entre 1 millón y menos de 2.5 millones': 3,\n",
        "    'Entre 2.5 millones y menos de 4 millones': 4,\n",
        "    'Entre 4 millones y menos de 5.5 millones': 5,\n",
        "    'Entre 5.5 millones y menos de 7 millones': 6,\n",
        "    'Más de 7 millones': 7,\n",
        "    'No pagó matrícula': 0,\n",
        "}\n",
        "dtr['ESTU_VALORMATRICULAUNIVERSIDAD'] = dtr['ESTU_VALORMATRICULAUNIVERSIDAD'].map(mapa_matricula)"
      ],
      "metadata": {
        "id": "Khq8coh_9g8A"
      },
      "execution_count": 11,
      "outputs": []
    },
    {
      "cell_type": "code",
      "source": [
        "dtr['ESTU_VALORMATRICULAUNIVERSIDAD']=dtr['ESTU_VALORMATRICULAUNIVERSIDAD'].fillna(round(dtr['ESTU_VALORMATRICULAUNIVERSIDAD'].mean()))"
      ],
      "metadata": {
        "id": "oSFFSxxl_nyo"
      },
      "execution_count": 12,
      "outputs": []
    },
    {
      "cell_type": "code",
      "source": [
        "mapa_trabajo = {\n",
        "    '0': 0,\n",
        "    'Menos de 10 horas': 1,\n",
        "    'Entre 11 y 20 horas': 2,\n",
        "    'Entre 21 y 30 horas': 3,\n",
        "    'Más de 30 horas': 4\n",
        "}\n",
        "\n",
        "dtr['ESTU_HORASSEMANATRABAJA'] = dtr['ESTU_HORASSEMANATRABAJA'].map(mapa_trabajo)\n",
        "dtr['ESTU_HORASSEMANATRABAJA'] = dtr['ESTU_HORASSEMANATRABAJA'].fillna(round(dtr['ESTU_HORASSEMANATRABAJA'].mean()))"
      ],
      "metadata": {
        "id": "4eeUa-qnE-cX"
      },
      "execution_count": 13,
      "outputs": []
    },
    {
      "cell_type": "code",
      "source": [
        "dtr['FAMI_ESTRATOVIVIENDA']=dtr['FAMI_ESTRATOVIVIENDA'].fillna('ns/nr')"
      ],
      "metadata": {
        "id": "YwimcEYmICvZ"
      },
      "execution_count": 14,
      "outputs": []
    },
    {
      "cell_type": "code",
      "source": [
        "for col in ['FAMI_EDUCACIONMADRE','FAMI_EDUCACIONPADRE']:\n",
        "  dtr[col]=dtr[col].fillna('desconocido')"
      ],
      "metadata": {
        "id": "cFHOykgAQAd4"
      },
      "execution_count": 15,
      "outputs": []
    },
    {
      "cell_type": "code",
      "source": [
        "dtr.isnull().any()"
      ],
      "metadata": {
        "colab": {
          "base_uri": "https://localhost:8080/",
          "height": 711
        },
        "id": "9FXwdxBjRSy4",
        "outputId": "4df5fc37-dcec-45c0-b579-ae6a537792e4"
      },
      "execution_count": 16,
      "outputs": [
        {
          "output_type": "execute_result",
          "data": {
            "text/plain": [
              "ID                                False\n",
              "PERIODO                           False\n",
              "ESTU_PRGM_ACADEMICO               False\n",
              "ESTU_PRGM_DEPARTAMENTO            False\n",
              "ESTU_VALORMATRICULAUNIVERSIDAD    False\n",
              "ESTU_HORASSEMANATRABAJA           False\n",
              "FAMI_ESTRATOVIVIENDA              False\n",
              "FAMI_TIENEINTERNET                False\n",
              "FAMI_EDUCACIONPADRE               False\n",
              "FAMI_TIENELAVADORA                False\n",
              "FAMI_TIENEAUTOMOVIL               False\n",
              "ESTU_PRIVADO_LIBERTAD             False\n",
              "ESTU_PAGOMATRICULAPROPIO          False\n",
              "FAMI_TIENECOMPUTADOR              False\n",
              "FAMI_EDUCACIONMADRE               False\n",
              "RENDIMIENTO_GLOBAL                False\n",
              "coef_1                            False\n",
              "coef_2                            False\n",
              "coef_3                            False\n",
              "coef_4                            False\n",
              "dtype: bool"
            ],
            "text/html": [
              "<div>\n",
              "<style scoped>\n",
              "    .dataframe tbody tr th:only-of-type {\n",
              "        vertical-align: middle;\n",
              "    }\n",
              "\n",
              "    .dataframe tbody tr th {\n",
              "        vertical-align: top;\n",
              "    }\n",
              "\n",
              "    .dataframe thead th {\n",
              "        text-align: right;\n",
              "    }\n",
              "</style>\n",
              "<table border=\"1\" class=\"dataframe\">\n",
              "  <thead>\n",
              "    <tr style=\"text-align: right;\">\n",
              "      <th></th>\n",
              "      <th>0</th>\n",
              "    </tr>\n",
              "  </thead>\n",
              "  <tbody>\n",
              "    <tr>\n",
              "      <th>ID</th>\n",
              "      <td>False</td>\n",
              "    </tr>\n",
              "    <tr>\n",
              "      <th>PERIODO</th>\n",
              "      <td>False</td>\n",
              "    </tr>\n",
              "    <tr>\n",
              "      <th>ESTU_PRGM_ACADEMICO</th>\n",
              "      <td>False</td>\n",
              "    </tr>\n",
              "    <tr>\n",
              "      <th>ESTU_PRGM_DEPARTAMENTO</th>\n",
              "      <td>False</td>\n",
              "    </tr>\n",
              "    <tr>\n",
              "      <th>ESTU_VALORMATRICULAUNIVERSIDAD</th>\n",
              "      <td>False</td>\n",
              "    </tr>\n",
              "    <tr>\n",
              "      <th>ESTU_HORASSEMANATRABAJA</th>\n",
              "      <td>False</td>\n",
              "    </tr>\n",
              "    <tr>\n",
              "      <th>FAMI_ESTRATOVIVIENDA</th>\n",
              "      <td>False</td>\n",
              "    </tr>\n",
              "    <tr>\n",
              "      <th>FAMI_TIENEINTERNET</th>\n",
              "      <td>False</td>\n",
              "    </tr>\n",
              "    <tr>\n",
              "      <th>FAMI_EDUCACIONPADRE</th>\n",
              "      <td>False</td>\n",
              "    </tr>\n",
              "    <tr>\n",
              "      <th>FAMI_TIENELAVADORA</th>\n",
              "      <td>False</td>\n",
              "    </tr>\n",
              "    <tr>\n",
              "      <th>FAMI_TIENEAUTOMOVIL</th>\n",
              "      <td>False</td>\n",
              "    </tr>\n",
              "    <tr>\n",
              "      <th>ESTU_PRIVADO_LIBERTAD</th>\n",
              "      <td>False</td>\n",
              "    </tr>\n",
              "    <tr>\n",
              "      <th>ESTU_PAGOMATRICULAPROPIO</th>\n",
              "      <td>False</td>\n",
              "    </tr>\n",
              "    <tr>\n",
              "      <th>FAMI_TIENECOMPUTADOR</th>\n",
              "      <td>False</td>\n",
              "    </tr>\n",
              "    <tr>\n",
              "      <th>FAMI_EDUCACIONMADRE</th>\n",
              "      <td>False</td>\n",
              "    </tr>\n",
              "    <tr>\n",
              "      <th>RENDIMIENTO_GLOBAL</th>\n",
              "      <td>False</td>\n",
              "    </tr>\n",
              "    <tr>\n",
              "      <th>coef_1</th>\n",
              "      <td>False</td>\n",
              "    </tr>\n",
              "    <tr>\n",
              "      <th>coef_2</th>\n",
              "      <td>False</td>\n",
              "    </tr>\n",
              "    <tr>\n",
              "      <th>coef_3</th>\n",
              "      <td>False</td>\n",
              "    </tr>\n",
              "    <tr>\n",
              "      <th>coef_4</th>\n",
              "      <td>False</td>\n",
              "    </tr>\n",
              "  </tbody>\n",
              "</table>\n",
              "</div><br><label><b>dtype:</b> bool</label>"
            ]
          },
          "metadata": {},
          "execution_count": 16
        }
      ]
    },
    {
      "cell_type": "code",
      "source": [
        "Var_categoricas=['FAMI_EDUCACIONMADRE','FAMI_EDUCACIONPADRE','FAMI_ESTRATOVIVIENDA','ESTU_PRGM_ACADEMICO','ESTU_PRGM_DEPARTAMENTO']\n",
        "for col in Var_categoricas:\n",
        "  dtr[col]=dtr[col].astype(str)"
      ],
      "metadata": {
        "id": "VPcjc-xgRfKy"
      },
      "execution_count": 17,
      "outputs": []
    },
    {
      "cell_type": "code",
      "source": [
        "del dtr['coef_1'], dtr['coef_2'], dtr['coef_3'], dtr['coef_4'],dtr['ESTU_PRIVADO_LIBERTAD'],dtr['FAMI_TIENELAVADORA'],dtr['FAMI_TIENEAUTOMOVIL']"
      ],
      "metadata": {
        "id": "M0dKWTNO4X5u"
      },
      "execution_count": 18,
      "outputs": []
    },
    {
      "cell_type": "markdown",
      "source": [
        "Se toma la decision de borrar estas variables ya que en varias iteraciones con el catboost se observo que tenian baja importancia"
      ],
      "metadata": {
        "id": "KbirtoWhgpxL"
      }
    },
    {
      "cell_type": "markdown",
      "source": [
        "#Entrenamiento,"
      ],
      "metadata": {
        "id": "iPildga52YYs"
      }
    },
    {
      "cell_type": "code",
      "source": [
        "dtr.shape"
      ],
      "metadata": {
        "colab": {
          "base_uri": "https://localhost:8080/"
        },
        "id": "_OFu7aDQ9tFg",
        "outputId": "6ddc0aae-c646-4aa4-b8d8-5ab71a1f860c"
      },
      "execution_count": 19,
      "outputs": [
        {
          "output_type": "execute_result",
          "data": {
            "text/plain": [
              "(692500, 13)"
            ]
          },
          "metadata": {},
          "execution_count": 19
        }
      ]
    },
    {
      "cell_type": "code",
      "source": [
        "dtr_copy=dtr.copy()\n",
        "le=LabelEncoder()\n",
        "y=le.fit_transform(dtr_copy['RENDIMIENTO_GLOBAL'])\n",
        "X=dtr_copy.drop(columns=[\"RENDIMIENTO_GLOBAL\", \"ID\", \"PERIODO\"] )\n",
        "x_train, x_val, y_train, y_val = train_test_split(X, y, test_size=0.2, random_state=42)"
      ],
      "metadata": {
        "id": "EUuFZV42UdHy"
      },
      "execution_count": 20,
      "outputs": []
    },
    {
      "cell_type": "code",
      "source": [
        "var_map = ['ESTU_VALORMATRICULAUNIVERSIDAD', 'ESTU_HORASSEMANATRABAJA']\n",
        "Var_categoricas=['FAMI_EDUCACIONMADRE','FAMI_EDUCACIONPADRE','FAMI_ESTRATOVIVIENDA','ESTU_PRGM_ACADEMICO','ESTU_PRGM_DEPARTAMENTO']"
      ],
      "metadata": {
        "id": "2vVjqjAF8CO9"
      },
      "execution_count": 21,
      "outputs": []
    },
    {
      "cell_type": "code",
      "source": [
        "#Entrenamos el modelo\n",
        "\n",
        "# Debemos asegurarnos que las variables categoricas estén codificadas cómo tal para que el modelo funcione correctamente\n",
        "for col in Var_categoricas:\n",
        "    x_train[col] = x_train[col].astype('category')\n",
        "    x_val[col] = x_val[col].astype('category')\n",
        "\n",
        "# Establecemos el clasificador\n",
        "classifier = lgb.LGBMClassifier(\n",
        "\n",
        "    objective='multiclass',\n",
        "    num_class=4,                  # Ajusta según tu variable objetivo\n",
        "    learning_rate=0.03,\n",
        "    max_depth=6,\n",
        "    num_leaves=20,\n",
        "    n_estimators=500,\n",
        "    reg_lambda=5,\n",
        "    reg_alpha=2,\n",
        "    random_state=42,\n",
        "    max_cat_threshold=64,  # permite más categorías en splits\n",
        "    max_bin=512            # sube el límite de bins\n",
        ")\n",
        "\n",
        "classifier.fit(\n",
        "    x_train, y_train,\n",
        "    eval_set=[(x_val, y_val)],\n",
        "    eval_metric='multi_logloss',\n",
        ")\n",
        "\n",
        "#Realizamos la predicción en validación\n",
        "\n",
        "y_val_pred = classifier.predict(x_val)\n",
        "val_accuracy = accuracy_score(y_val, y_val_pred)\n",
        "print(f\"Accuracy validación: {val_accuracy:.4f}\")\n",
        "print(classification_report(y_val, y_val_pred, target_names=le.classes_))"
      ],
      "metadata": {
        "colab": {
          "base_uri": "https://localhost:8080/"
        },
        "id": "eMmil298Lwth",
        "outputId": "55b57047-723b-4711-9655-0de5dc472f09"
      },
      "execution_count": 22,
      "outputs": [
        {
          "output_type": "stream",
          "name": "stdout",
          "text": [
            "[LightGBM] [Warning] Categorical features with more bins than the configured maximum bin number found.\n",
            "[LightGBM] [Warning] For categorical features, max_bin and max_bin_by_feature may be ignored with a large number of categories.\n",
            "[LightGBM] [Info] Auto-choosing row-wise multi-threading, the overhead of testing was 0.056921 seconds.\n",
            "You can set `force_row_wise=true` to remove the overhead.\n",
            "And if memory is not enough, you can set `force_col_wise=true`.\n",
            "[LightGBM] [Info] Total Bins 710\n",
            "[LightGBM] [Info] Number of data points in the train set: 554000, number of used features: 10\n",
            "[LightGBM] [Info] Start training from score -1.372285\n",
            "[LightGBM] [Info] Start training from score -1.386915\n",
            "[LightGBM] [Info] Start training from score -1.394559\n",
            "[LightGBM] [Info] Start training from score -1.391565\n",
            "Accuracy validación: 0.4356\n",
            "              precision    recall  f1-score   support\n",
            "\n",
            "        alto       0.56      0.62      0.59     35165\n",
            "        bajo       0.46      0.57      0.51     34573\n",
            "  medio-alto       0.33      0.27      0.30     34259\n",
            "  medio-bajo       0.33      0.28      0.30     34503\n",
            "\n",
            "    accuracy                           0.44    138500\n",
            "   macro avg       0.42      0.43      0.42    138500\n",
            "weighted avg       0.42      0.44      0.43    138500\n",
            "\n"
          ]
        }
      ]
    },
    {
      "cell_type": "code",
      "source": [
        "lgb.plot_importance(classifier, max_num_features=20, importance_type='gain')\n",
        "plt.show()"
      ],
      "metadata": {
        "colab": {
          "base_uri": "https://localhost:8080/",
          "height": 472
        },
        "id": "uKL_qAxNddFZ",
        "outputId": "940c23dc-41d7-47ed-e180-52ba4dd8feb6"
      },
      "execution_count": 23,
      "outputs": [
        {
          "output_type": "display_data",
          "data": {
            "text/plain": [
              "<Figure size 640x480 with 1 Axes>"
            ],
            "image/png": "[encoded data removed]"
          },
          "metadata": {}
        }
      ]
    },
    {
      "cell_type": "markdown",
      "source": [
        "Ahora para la subida a Kaggle debemos adaptar los datos de test a los mapas establecidos."
      ],
      "metadata": {
        "id": "BAi5KosQSO9c"
      }
    },
    {
      "cell_type": "code",
      "source": [
        "dtest= pd.read_csv(\"test.csv\")"
      ],
      "metadata": {
        "id": "WiMgxBNkOo24"
      },
      "execution_count": 24,
      "outputs": []
    },
    {
      "cell_type": "markdown",
      "source": [
        "Transformación de los datos de test al formato que se tiene en train\n"
      ],
      "metadata": {
        "id": "JnPvbAJSY0uG"
      }
    },
    {
      "cell_type": "code",
      "source": [
        "for i in ['FAMI_TIENEINTERNET','FAMI_TIENELAVADORA','FAMI_TIENEAUTOMOVIL','ESTU_PAGOMATRICULAPROPIO','FAMI_TIENECOMPUTADOR','FAMI_TIENEINTERNET.1']:\n",
        "  dtest[i]=dtest[i].apply(mask)\n",
        "del dtest['FAMI_TIENEINTERNET.1']\n",
        "dtest['ESTU_PRIVADO_LIBERTAD']=dtest['ESTU_PRIVADO_LIBERTAD'].apply(mask1)\n",
        "for col in bool_var:\n",
        "  dtest[col]=dtest[col].fillna(dtest[col].mode(dropna=True)[0])\n",
        "dtest['ESTU_VALORMATRICULAUNIVERSIDAD'] = dtest['ESTU_VALORMATRICULAUNIVERSIDAD'].map(mapa_matricula)\n",
        "dtest['ESTU_VALORMATRICULAUNIVERSIDAD']=dtest['ESTU_VALORMATRICULAUNIVERSIDAD'].fillna(round(dtest['ESTU_VALORMATRICULAUNIVERSIDAD'].mean()))\n",
        "dtest['ESTU_HORASSEMANATRABAJA'] = dtest['ESTU_HORASSEMANATRABAJA'].map(mapa_trabajo)\n",
        "dtest['ESTU_HORASSEMANATRABAJA'] = dtest['ESTU_HORASSEMANATRABAJA'].fillna(round(dtr['ESTU_HORASSEMANATRABAJA'].mean()))\n",
        "dtest['FAMI_ESTRATOVIVIENDA']=dtest['FAMI_ESTRATOVIVIENDA'].fillna('ns/nr')\n",
        "for col in ['FAMI_EDUCACIONMADRE','FAMI_EDUCACIONPADRE']:\n",
        "  dtest[col]=dtest[col].fillna('desconocido')\n",
        "Var_categoricas=['FAMI_EDUCACIONMADRE','FAMI_EDUCACIONPADRE','FAMI_ESTRATOVIVIENDA','ESTU_PRGM_ACADEMICO','ESTU_PRGM_DEPARTAMENTO']\n",
        "for col in Var_categoricas:\n",
        "  dtest[col]=dtest[col].astype(str)\n",
        "del dtest['coef_1'], dtest['coef_2'], dtest['coef_3'], dtest['coef_4'],dtest['ESTU_PRIVADO_LIBERTAD'],dtest['FAMI_TIENELAVADORA'],dtest['FAMI_TIENEAUTOMOVIL']"
      ],
      "metadata": {
        "colab": {
          "base_uri": "https://localhost:8080/"
        },
        "id": "etJYfSH_SiNt",
        "outputId": "4bfa520a-c216-4775-d8de-184c06947af4"
      },
      "execution_count": 25,
      "outputs": [
        {
          "output_type": "stream",
          "name": "stderr",
          "text": [
            "/tmp/ipython-input-25-2672587927.py:6: FutureWarning: Downcasting object dtype arrays on .fillna, .ffill, .bfill is deprecated and will change in a future version. Call result.infer_objects(copy=False) instead. To opt-in to the future behavior, set `pd.set_option('future.no_silent_downcasting', True)`\n",
            "  dtest[col]=dtest[col].fillna(dtest[col].mode(dropna=True)[0])\n"
          ]
        }
      ]
    },
    {
      "cell_type": "code",
      "source": [
        "x_kaggle = dtest.drop(columns=[\"ID\", \"PERIODO\"], errors='ignore')\n",
        "for col in Var_categoricas:\n",
        "  x_kaggle[col] = x_kaggle[col].astype('category')\n",
        "predictions = classifier.predict(x_kaggle)\n",
        "predictions_labels = le.inverse_transform(predictions)\n",
        "kaggle_dtest = dtest[[\"ID\"]].copy()\n",
        "kaggle_dtest[\"RENDIMIENTO_GLOBAL\"] = predictions_labels\n",
        "kaggle_dtest.to_csv(\"submission_dtest_lightbmc.csv\", index=False)\n",
        "print(kaggle_dtest.head())"
      ],
      "metadata": {
        "colab": {
          "base_uri": "https://localhost:8080/"
        },
        "id": "Z2igDVI_SwRy",
        "outputId": "80b1c850-c89d-4530-c69f-bf12605573e2"
      },
      "execution_count": 36,
      "outputs": [
        {
          "output_type": "stream",
          "name": "stdout",
          "text": [
            "       ID RENDIMIENTO_GLOBAL\n",
            "0  550236               bajo\n",
            "1   98545         medio-bajo\n",
            "2  499179               alto\n",
            "3  782980               bajo\n",
            "4  785185               bajo\n"
          ]
        }
      ]
    }
  ]
}